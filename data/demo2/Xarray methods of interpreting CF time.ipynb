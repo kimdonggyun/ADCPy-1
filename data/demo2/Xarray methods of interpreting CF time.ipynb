{
 "cells": [
  {
   "cell_type": "markdown",
   "metadata": {},
   "source": [
    "Here we demonstrate the results of various ways ot open an xarray data set with CF time"
   ]
  },
  {
   "cell_type": "code",
   "execution_count": 1,
   "metadata": {},
   "outputs": [],
   "source": [
    "import datetime as dt\n",
    "import numpy as np\n",
    "import xarray as xr"
   ]
  },
  {
   "cell_type": "code",
   "execution_count": 2,
   "metadata": {},
   "outputs": [
    {
     "name": "stdout",
     "output_type": "stream",
     "text": [
      "<class 'xarray.core.dataarray.DataArray'>\n",
      "<xarray.DataArray 'time' (time: 503)>\n",
      "array([cftime.DatetimeGregorian(2018, 3, 4, 13, 0, 8, 0, 6, 63),\n",
      "       cftime.DatetimeGregorian(2018, 3, 4, 14, 0, 8, 10, 6, 63),\n",
      "       cftime.DatetimeGregorian(2018, 3, 4, 15, 0, 8, 0, 6, 63), ...,\n",
      "       cftime.DatetimeGregorian(2018, 3, 25, 9, 0, 8, 0, 6, 84),\n",
      "       cftime.DatetimeGregorian(2018, 3, 25, 10, 0, 8, 0, 6, 84),\n",
      "       cftime.DatetimeGregorian(2018, 3, 25, 11, 0, 8, 10, 6, 84)],\n",
      "      dtype=object)\n",
      "Coordinates:\n",
      "  * time     (time) object 2018-03-04 13:00:08 ... 2018-03-25 11:00:08\n",
      "Attributes:\n",
      "    standard_name:  time\n",
      "    axis:           T\n",
      "    type:           UNEVEN\n",
      "<class 'numpy.ndarray'>\n",
      "[cftime.DatetimeGregorian(2018, 3, 4, 13, 0, 8, 0, 6, 63)\n",
      " cftime.DatetimeGregorian(2018, 3, 4, 14, 0, 8, 10, 6, 63)\n",
      " cftime.DatetimeGregorian(2018, 3, 4, 15, 0, 8, 0, 6, 63)\n",
      " cftime.DatetimeGregorian(2018, 3, 4, 16, 0, 8, 0, 6, 63)\n",
      " cftime.DatetimeGregorian(2018, 3, 4, 17, 0, 8, 10, 6, 63)]\n"
     ]
    }
   ],
   "source": [
    "infile = '11121whVwaves02repo.cdf' # no EPIC times in here\n",
    "ds = xr.open_dataset(infile,decode_times=True, decode_cf=True, use_cftime=True) #,drop_variables=vars2omit)\n",
    "print(type(ds['time']))\n",
    "print(ds['time'])\n",
    "print(type(ds['time'].values))\n",
    "print(ds['time'][0:5].values)\n",
    "ds.close()"
   ]
  },
  {
   "cell_type": "code",
   "execution_count": 3,
   "metadata": {},
   "outputs": [
    {
     "name": "stdout",
     "output_type": "stream",
     "text": [
      "<class 'xarray.core.dataarray.DataArray'>\n",
      "<xarray.DataArray 'time' (time: 503)>\n",
      "array(['2018-03-03T22:00:00.000000000', '2018-03-03T23:00:00.000000000',\n",
      "       '2018-03-04T00:00:00.000000000', ..., '2018-03-24T18:00:00.000000000',\n",
      "       '2018-03-24T19:00:00.000000000', '2018-03-24T20:00:00.000000000'],\n",
      "      dtype='datetime64[ns]')\n",
      "Coordinates:\n",
      "  * time     (time) datetime64[ns] 2018-03-03T22:00:00 ... 2018-03-24T20:00:00\n",
      "Attributes:\n",
      "    standard_name:  time\n",
      "    axis:           T\n",
      "    type:           UNEVEN\n",
      "<class 'numpy.ndarray'>\n",
      "['2018-03-03T22:00:00.000000000' '2018-03-03T23:00:00.000000000'\n",
      " '2018-03-04T00:00:00.000000000' '2018-03-04T01:00:00.000000000'\n",
      " '2018-03-04T02:00:00.000000000']\n"
     ]
    }
   ],
   "source": [
    "infile = '11121whVwaves02repo.cdf' # no EPIC times in here\n",
    "ds = xr.open_dataset(infile,decode_times=True, decode_cf=True) #,drop_variables=vars2omit)\n",
    "print(type(ds['time']))\n",
    "print(ds['time'])\n",
    "print(type(ds['time'].values))\n",
    "print(ds['time'][0:5].values)\n",
    "ds.close()"
   ]
  },
  {
   "cell_type": "code",
   "execution_count": 4,
   "metadata": {},
   "outputs": [
    {
     "name": "stdout",
     "output_type": "stream",
     "text": [
      "<class 'xarray.core.dataarray.DataArray'>\n",
      "<xarray.DataArray 'time' (time: 503)>\n",
      "array(['2018-03-03T22:00:00.000000000', '2018-03-03T23:00:00.000000000',\n",
      "       '2018-03-04T00:00:00.000000000', ..., '2018-03-24T18:00:00.000000000',\n",
      "       '2018-03-24T19:00:00.000000000', '2018-03-24T20:00:00.000000000'],\n",
      "      dtype='datetime64[ns]')\n",
      "Coordinates:\n",
      "  * time     (time) datetime64[ns] 2018-03-03T22:00:00 ... 2018-03-24T20:00:00\n",
      "Attributes:\n",
      "    standard_name:  time\n",
      "    axis:           T\n",
      "    type:           UNEVEN\n",
      "<class 'numpy.ndarray'>\n",
      "['2018-03-03T22:00:00.000000000' '2018-03-03T23:00:00.000000000'\n",
      " '2018-03-04T00:00:00.000000000' '2018-03-04T01:00:00.000000000'\n",
      " '2018-03-04T02:00:00.000000000']\n"
     ]
    }
   ],
   "source": [
    "infile = '11121whVwaves02repo.cdf' # no EPIC times in here\n",
    "ds = xr.open_dataset(infile,decode_times=True) #,drop_variables=vars2omit)\n",
    "print(type(ds['time']))\n",
    "print(ds['time'])\n",
    "print(type(ds['time'].values))\n",
    "print(ds['time'][0:5].values)\n",
    "ds.close()"
   ]
  },
  {
   "cell_type": "code",
   "execution_count": 5,
   "metadata": {},
   "outputs": [
    {
     "name": "stdout",
     "output_type": "stream",
     "text": [
      "<class 'xarray.core.dataarray.DataArray'>\n",
      "<xarray.DataArray 'time' (time: 503)>\n",
      "array(['2018-03-03T22:00:00.000000000', '2018-03-03T23:00:00.000000000',\n",
      "       '2018-03-04T00:00:00.000000000', ..., '2018-03-24T18:00:00.000000000',\n",
      "       '2018-03-24T19:00:00.000000000', '2018-03-24T20:00:00.000000000'],\n",
      "      dtype='datetime64[ns]')\n",
      "Coordinates:\n",
      "  * time     (time) datetime64[ns] 2018-03-03T22:00:00 ... 2018-03-24T20:00:00\n",
      "Attributes:\n",
      "    standard_name:  time\n",
      "    axis:           T\n",
      "    type:           UNEVEN\n",
      "<class 'numpy.ndarray'>\n",
      "['2018-03-03T22:00:00.000000000' '2018-03-03T23:00:00.000000000'\n",
      " '2018-03-04T00:00:00.000000000' '2018-03-04T01:00:00.000000000'\n",
      " '2018-03-04T02:00:00.000000000']\n"
     ]
    }
   ],
   "source": [
    "infile = '11121whVwaves02repo.cdf' # no EPIC times in here\n",
    "ds = xr.open_dataset(infile) #,drop_variables=vars2omit)\n",
    "print(type(ds['time']))\n",
    "print(ds['time'])\n",
    "print(type(ds['time'].values))\n",
    "print(ds['time'][0:5].values)\n",
    "ds.close()"
   ]
  },
  {
   "cell_type": "code",
   "execution_count": null,
   "metadata": {},
   "outputs": [],
   "source": []
  }
 ],
 "metadata": {
  "gist": {
   "data": {
    "description": "data/Matanzas/V23857/python/Scratch.ipynb",
    "public": true
   },
   "id": ""
  },
  "kernelspec": {
   "display_name": "Python [conda env:mmfavs] *",
   "language": "python",
   "name": "conda-env-mmfavs-py"
  },
  "language_info": {
   "codemirror_mode": {
    "name": "ipython",
    "version": 3
   },
   "file_extension": ".py",
   "mimetype": "text/x-python",
   "name": "python",
   "nbconvert_exporter": "python",
   "pygments_lexer": "ipython3",
   "version": "3.7.3"
  },
  "varInspector": {
   "cols": {
    "lenName": 16,
    "lenType": 16,
    "lenVar": 40
   },
   "kernels_config": {
    "python": {
     "delete_cmd_postfix": "",
     "delete_cmd_prefix": "del ",
     "library": "var_list.py",
     "varRefreshCmd": "print(var_dic_list())"
    },
    "r": {
     "delete_cmd_postfix": ") ",
     "delete_cmd_prefix": "rm(",
     "library": "var_list.r",
     "varRefreshCmd": "cat(var_dic_list()) "
    }
   },
   "types_to_exclude": [
    "module",
    "function",
    "builtin_function_or_method",
    "instance",
    "_Feature"
   ],
   "window_display": false
  }
 },
 "nbformat": 4,
 "nbformat_minor": 2
}
