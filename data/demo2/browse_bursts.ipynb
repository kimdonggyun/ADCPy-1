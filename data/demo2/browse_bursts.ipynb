{
 "cells": [
  {
   "cell_type": "markdown",
   "metadata": {},
   "source": [
    "This notebook builds an interactive figure using holoviews plot and widget objects.  It allows inspection of netcdf files shaped as time x sample x depth at a time stamp by time stamp basis.  We at USGS use this to diagnoe isntrument issues and QA/QC"
   ]
  },
  {
   "cell_type": "code",
   "execution_count": null,
   "metadata": {},
   "outputs": [],
   "source": [
    "import xarray as xr\n",
    "import pandas as pd\n",
    "import numpy as np\n",
    "import holoviews as hv\n",
    "from holoviews import streams # do I use this?\n",
    "import hvplot.xarray\n",
    "import panel as pn\n",
    "\n",
    "# initializations\n",
    "pn.extension()  # initializes the panel back end"
   ]
  },
  {
   "cell_type": "code",
   "execution_count": null,
   "metadata": {},
   "outputs": [],
   "source": [
    "# TODO - if this is to be a demo, need to make the repo file under 2 GB"
   ]
  },
  {
   "cell_type": "markdown",
   "metadata": {},
   "source": [
    "Open the data file.  We want xarray, so that we get lazy access to this file.  The holoviews package also understands xarray objects natively."
   ]
  },
  {
   "cell_type": "code",
   "execution_count": null,
   "metadata": {},
   "outputs": [],
   "source": [
    "# this is a well formed file for xarray (CF time, no EPIC variables) and it is 2D with sample dimension, \n",
    "# and it is also 4 GB, so we don't want to do anything that will cause the data to be read into memory\n",
    "# this has already been demonstrated to crash the browser\n",
    "# infile = r'C:\\data\\10811_V20784\\python\\10811whVwave03repo.cdf';\n",
    "infile = '11121whVwaves02repo.cdf' # no EPIC times in here\n",
    "# ds = xr.open_dataset(infile,decode_times=True, decode_cf=True, use_cftime=True) #,drop_variables=vars2omit)\n",
    "# the above put out a gregorian flavor of time\n",
    "# ds = xr.open_dataset(infile,decode_times=True, decode_cf=True, use_cftime=True) #,drop_variables=vars2omit)\n",
    "ds = xr.open_dataset(infile) "
   ]
  },
  {
   "cell_type": "markdown",
   "metadata": {},
   "source": [
    "Helper functions here get infromation that is not otherwaise automatically understood or read by holoviews."
   ]
  },
  {
   "cell_type": "code",
   "execution_count": null,
   "metadata": {},
   "outputs": [],
   "source": [
    "# get a list of the variable names in the file that are not ordinate\n",
    "def get_var_name_list(ds):\n",
    "    coordnames = []\n",
    "    for cname in ds.coords:\n",
    "        coordnames.append(cname)\n",
    "\n",
    "    varnames = []\n",
    "    for vname in ds.variables:\n",
    "        # eliminate any coordinates\n",
    "        if vname not in coordnames:\n",
    "            varnames.append(vname)\n",
    "            \n",
    "    return varnames"
   ]
  },
  {
   "cell_type": "markdown",
   "metadata": {},
   "source": [
    "Set up the objects that will select data to display from the file.  As a test, we also optionally show each object (by calling the object on a seaprate line) to test them.  Once we know they are working as we like, we comment those lines out.\n",
    "\n",
    "These were chosen from the gallery of widgets here:  https://panel.pyviz.org/reference/index.html"
   ]
  },
  {
   "cell_type": "code",
   "execution_count": null,
   "metadata": {},
   "outputs": [],
   "source": [
    "# I use the helper function defined above get_var_name_list to make a list of variable names that make sense to plot\n",
    "select_variable = pn.widgets.Select(options=get_var_name_list(ds),name='Pick a variable')\n",
    "\n",
    "select_variable # test\n",
    "# TODO name is not in the docs as something that can be set - is ther a generic set of thigns that can be set in all widgets?"
   ]
  },
  {
   "cell_type": "code",
   "execution_count": null,
   "metadata": {},
   "outputs": [],
   "source": [
    "# depth_slider = pn.widgets.FloatSlider(start=ds['depth'].values.min(), end=ds['depth'].values.max(), value=ds['depth'][:].values.mean())\n",
    "depth_spinner = pn.widgets.Spinner(name='Set depth to view', start=ds['depth'].values.min(), end=ds['depth'].values.max(), \n",
    "                                   value=ds['depth'][:].values.mean(), step=1)\n",
    "\n",
    "depth_spinner  # test\n",
    "# TODO the depth needs to be incremented in a more meaningful way than 1 m (e.g. step=1)"
   ]
  },
  {
   "cell_type": "code",
   "execution_count": null,
   "metadata": {},
   "outputs": [],
   "source": [
    "# burst_slider = pn.widgets.IntSlider(start=0, end=10, value=5)\n",
    "# note that get_date_input depends on this widget\n",
    "burst_spinner = pn.widgets.Spinner(name='Set burst index to view', start=0, end=len(ds['time']), \n",
    "                                   value=len(ds['time'])/2, step=1)\n",
    "burst_spinner # test"
   ]
  },
  {
   "cell_type": "markdown",
   "metadata": {},
   "source": [
    "The next few inactive cells demonstrate the progression of how the final code was developed and what was tested."
   ]
  },
  {
   "cell_type": "markdown",
   "metadata": {},
   "source": [
    "The elegant thing about xarray is that we can now pull out this single slice of data, as shown by the code below"
   ]
  },
  {
   "cell_type": "raw",
   "metadata": {},
   "source": [
    "# the elegant thing about xarray is that we can now pull out this single slice of data\n",
    "print(ds['time'][0])\n",
    "print(pd.Timestamp(ds['time'][0].values).to_pydatetime())"
   ]
  },
  {
   "cell_type": "raw",
   "metadata": {},
   "source": [
    "@pn.depends(burst_num=burst_slider.param.value, var_name=select_variable.param.value, depth=depth_slider.param.value)\n",
    "def create_plot_obj(burst_num, var_name='Pressure', depth=0, **kwargs):\n",
    "    # find the equivalent depth\n",
    "    depth_cell=np.min(np.where(ds['depth']>=depth))\n",
    "    if len(ds[var_name].shape) == 2:\n",
    "        the_plot_object = hv.Curve(ds[var_name][burst_num,:])\n",
    "    if len(ds[var_name].shape) == 3:\n",
    "        the_plot_object = hv.Image((ds['sample'][:],ds['depth'][:],ds[var_name][burst_num,:,:].transpose()))\n",
    "    return the_plot_object\n",
    "\n",
    "pn.Row(pn.Column(burst_slider, depth_slider, select_variable), create_plot_obj)"
   ]
  },
  {
   "cell_type": "raw",
   "metadata": {},
   "source": [
    "var_name='vel1'\n",
    "burst_num = 100\n",
    "the_plot_object = hv.QuadMesh((ds['sample'][:],ds['depth'][:],ds[var_name][burst_num,:,:].transpose()))\n",
    "the_plot_object\n",
    "# QuadMesh takes time to render and the result is too fine to see what we need"
   ]
  },
  {
   "cell_type": "markdown",
   "metadata": {},
   "source": [
    "here I am trying out color maps and customization of the plot, information from\n",
    "* http://holoviews.org/user_guide/Colormaps.html\n",
    "* http://holoviews.org/user_guide/Style_Mapping.html"
   ]
  },
  {
   "cell_type": "raw",
   "metadata": {},
   "source": [
    "var_name='vel1'\n",
    "burst_num = 100\n",
    "#hv.Image(ds[var_name][burst_num,:,:], kdims=['sample','depth'])\n",
    "the_plot_object = hv.Image((ds['sample'][:].values,np.flipud(ds['depth'][:].values),ds[var_name][burst_num,:,:].values.transpose()), \n",
    "         kdims=['sample','distance from transducer'], datatype=['xarray'])\n",
    "the_plot_object.opts(width=600)\n",
    "the_plot_object.opts(colorbar=True,cmap='seismic') \n",
    "the_plot_object"
   ]
  },
  {
   "cell_type": "markdown",
   "metadata": {},
   "source": [
    "now select the slice of data by time and plot that, instead of indexing into the file each time"
   ]
  },
  {
   "cell_type": "raw",
   "metadata": {},
   "source": [
    "print(ds['time'][burst_num])\n",
    "# pd.Timestamp(ds['time'][burst_num].values).to_pydatetime() \n",
    "# Cannot convert input [2018-03-08 17:00:08] of type <class 'numpy.ndarray'> to Timestamp\n",
    "# pd.Timestamp(ds['time'][burst_num]).to_pydatetime()\n",
    "\"\"\"\n",
    "Cannot convert input [<xarray.DataArray 'time' ()>\n",
    "array(cftime.DatetimeGregorian(2018, 3, 8, 17, 0, 8, 10, 3, 67), dtype=object)\n",
    "Coordinates:\n",
    "    time     object 2018-03-08 17:00:08\n",
    "Attributes:\n",
    "    standard_name:  time\n",
    "    axis:           T\n",
    "    type:           UNEVEN] of type <class 'xarray.core.dataarray.DataArray'> to Timestamp\n",
    "\"\"\"\n",
    "ds['time'][burst_num].datetime"
   ]
  },
  {
   "cell_type": "code",
   "execution_count": null,
   "metadata": {},
   "outputs": [],
   "source": [
    "burst_num = 100\n",
    "burst_num = int(burst_num) # the spinner will return a float, we need an index\n",
    "time_from_burst_selection = ds['time'][burst_num]"
   ]
  },
  {
   "cell_type": "code",
   "execution_count": null,
   "metadata": {},
   "outputs": [],
   "source": [
    "data_slice = ds.sel(time=time_from_burst_selection)['Pressure']\n",
    "print(len(data_slice.shape))\n",
    "hv.Curve(data_slice)"
   ]
  },
  {
   "cell_type": "markdown",
   "metadata": {},
   "source": [
    "We are almost there.  Here we put it all together.  The decorator depends gets the information from the widgets, and backend of the system updates the plot when a widget is changed.  "
   ]
  },
  {
   "cell_type": "code",
   "execution_count": null,
   "metadata": {},
   "outputs": [],
   "source": [
    "@pn.depends(burst_num=burst_spinner.param.value, \n",
    "            var_name=select_variable.param.value, \n",
    "            depth=depth_spinner.param.value)\n",
    "def create_plot_obj(burst_num, var_name='Pressure', depth=0, **kwargs):\n",
    "    \n",
    "    depth_cell = np.min(np.where(ds['depth']>=depth)) # find the equivalent depth\n",
    "    burst_num = int(burst_num) # the spinner will return a float, we need an index\n",
    "    time_from_burst_selection = ds['time'][burst_num]\n",
    "   \n",
    "    data_slice = ds.sel(time=time_from_burst_selection)[var_name]\n",
    "\n",
    "    # build a title for the plot\n",
    "    plot_title = '{} at {}, index {}'.format(data_slice.long_name, burst_num, time_from_burst_selection)\n",
    "    \n",
    "    # TODO check for lat and lon or ordinate dimensions other than time, depth and sample and squash them\n",
    "        \n",
    "    plot_width = 700\n",
    "    \n",
    "    if len(data_slice.shape) == 1:\n",
    "        the_plot_object = hv.Curve(data_slice)\n",
    "        the_plot_object.opts(width=plot_width, title=plot_title) \n",
    "        \n",
    "    if len(data_slice.shape) == 2:\n",
    "        \n",
    "        if 'vel' in var_name: \n",
    "            cmap='seismic'\n",
    "        elif 'att' in var_name: \n",
    "            cmap='PiYG'\n",
    "        else: \n",
    "            cmap='Viridis'\n",
    "            \n",
    "        y_label = '{}, {}'.format(data_slice.depth.long_name, data_slice.depth.units)\n",
    "        the_plot_object = hv.Image((data_slice['sample'].values,np.flipud(data_slice['depth'].values),\n",
    "                                    data_slice.values.transpose()), \n",
    "                                    kdims=['sample',y_label])\n",
    "\n",
    "        the_plot_object.opts(colorbar=True,cmap=cmap,width=plot_width,title=plot_title) \n",
    "        \n",
    "    return the_plot_object\n",
    "\n",
    "pn.Row(pn.Column(select_variable, burst_spinner, depth_spinner, width=180), create_plot_obj)"
   ]
  },
  {
   "cell_type": "code",
   "execution_count": null,
   "metadata": {},
   "outputs": [],
   "source": [
    "ds.close()"
   ]
  },
  {
   "cell_type": "code",
   "execution_count": null,
   "metadata": {},
   "outputs": [],
   "source": []
  }
 ],
 "metadata": {
  "gist": {
   "data": {
    "description": "Sandwich/10811_V20784/processed201809scaled/hvplot on large files.ipynb",
    "public": true
   },
   "id": ""
  },
  "kernelspec": {
   "display_name": "Python 3",
   "language": "python",
   "name": "python3"
  },
  "language_info": {
   "codemirror_mode": {
    "name": "ipython",
    "version": 3
   },
   "file_extension": ".py",
   "mimetype": "text/x-python",
   "name": "python",
   "nbconvert_exporter": "python",
   "pygments_lexer": "ipython3",
   "version": "3.7.3"
  },
  "varInspector": {
   "cols": {
    "lenName": 16,
    "lenType": 16,
    "lenVar": 40
   },
   "kernels_config": {
    "python": {
     "delete_cmd_postfix": "",
     "delete_cmd_prefix": "del ",
     "library": "var_list.py",
     "varRefreshCmd": "print(var_dic_list())"
    },
    "r": {
     "delete_cmd_postfix": ") ",
     "delete_cmd_prefix": "rm(",
     "library": "var_list.r",
     "varRefreshCmd": "cat(var_dic_list()) "
    }
   },
   "position": {
    "height": "410.667px",
    "left": "896px",
    "right": "20px",
    "top": "120px",
    "width": "350px"
   },
   "types_to_exclude": [
    "module",
    "function",
    "builtin_function_or_method",
    "instance",
    "_Feature"
   ],
   "window_display": false
  }
 },
 "nbformat": 4,
 "nbformat_minor": 4
}
