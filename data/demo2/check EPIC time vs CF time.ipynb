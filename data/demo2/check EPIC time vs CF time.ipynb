{
 "cells": [
  {
   "cell_type": "code",
   "execution_count": 1,
   "metadata": {},
   "outputs": [],
   "source": [
    "import datetime as dt\n",
    "import numpy as np\n",
    "import xarray as xr\n",
    "import pandas as pd\n",
    "import EPICstuff.EPICmisc as ep"
   ]
  },
  {
   "cell_type": "code",
   "execution_count": 2,
   "metadata": {},
   "outputs": [
    {
     "data": {
      "text/plain": [
       "'e:\\\\data\\\\Matanzas\\\\V23857\\\\python'"
      ]
     },
     "execution_count": 2,
     "metadata": {},
     "output_type": "execute_result"
    }
   ],
   "source": [
    "pwd"
   ]
  },
  {
   "cell_type": "code",
   "execution_count": 3,
   "metadata": {},
   "outputs": [],
   "source": [
    "# Matanzas\n",
    "# time of first ping is 2018/1/21 15:00:00 UTC\n",
    "\n",
    "ncFile = r'E:\\data\\Sandwich\\10811_V20784\\python\\10811whV.cdf'\n",
    "# time of first ping is 2016/12/15 23:59:22 UTC\n",
    "# when decode_cf is True, get time zero is '2016-12-15T00:00:00.000000000', dtype='datetime64[ns]'\n",
    "# when decode_cf is False \n",
    "#      in the file, CF time 0.0 seconds since 2016-12-15 23:59:22.000000 0:00"
   ]
  },
  {
   "cell_type": "code",
   "execution_count": 4,
   "metadata": {},
   "outputs": [],
   "source": [
    "# open and decode times\n",
    "vars2omit = {'EPIC_time','EPIC_time2'}\n",
    "ds = xr.open_dataset(ncFile,decode_cf=True,drop_variables=vars2omit)"
   ]
  },
  {
   "cell_type": "code",
   "execution_count": 5,
   "metadata": {},
   "outputs": [
    {
     "name": "stdout",
     "output_type": "stream",
     "text": [
      "<xarray.DataArray 'time' ()>\n",
      "array('2016-12-15T00:00:00.000000000', dtype='datetime64[ns]')\n",
      "Coordinates:\n",
      "    time     datetime64[ns] 2016-12-15\n",
      "Attributes:\n",
      "    standard_name:  time\n",
      "    axis:           T\n",
      "    type:           UNEVEN\n"
     ]
    }
   ],
   "source": [
    "print(ds['time'][0])"
   ]
  },
  {
   "cell_type": "code",
   "execution_count": 6,
   "metadata": {},
   "outputs": [],
   "source": [
    "ds.close()"
   ]
  },
  {
   "cell_type": "code",
   "execution_count": 7,
   "metadata": {},
   "outputs": [],
   "source": [
    "# open and don't decode times\n",
    "ds = xr.open_dataset(ncFile,decode_cf=False)"
   ]
  },
  {
   "cell_type": "code",
   "execution_count": 8,
   "metadata": {},
   "outputs": [
    {
     "name": "stdout",
     "output_type": "stream",
     "text": [
      "CF time 0.0 seconds since 2016-12-15 23:59:22.000000 0:00\n"
     ]
    }
   ],
   "source": [
    "print('CF time {} {}'.format(ds['time'][0].values,ds['time'].units))"
   ]
  },
  {
   "cell_type": "code",
   "execution_count": 9,
   "metadata": {},
   "outputs": [
    {
     "name": "stdout",
     "output_type": "stream",
     "text": [
      "0.0 sec is 0.0 days 0.0 hours 0.0 minutes 0.0 seconds\n"
     ]
    }
   ],
   "source": [
    "days = ds['time'][0].values/(24*3600)\n",
    "hours = (days - np.floor(days)) * 24\n",
    "minutes = (hours - np.floor(hours)) * 60\n",
    "seconds = (minutes - np.floor(minutes)) * 60\n",
    "print('{} sec is {} days {} hours {} minutes {} seconds'.format(ds['time'][0].values,np.floor(days), np.floor(hours), np.floor(minutes), \n",
    "                                         np.floor(seconds)))"
   ]
  },
  {
   "cell_type": "code",
   "execution_count": 10,
   "metadata": {},
   "outputs": [
    {
     "name": "stdout",
     "output_type": "stream",
     "text": [
      "EPIC time 2457738 86362000\n"
     ]
    }
   ],
   "source": [
    "print('EPIC time {} {}'.format(ds['EPIC_time'][0].values, ds['EPIC_time2'][0].values))"
   ]
  },
  {
   "cell_type": "code",
   "execution_count": 11,
   "metadata": {},
   "outputs": [
    {
     "name": "stdout",
     "output_type": "stream",
     "text": [
      "EPIC time converted to datetime [datetime.datetime(2016, 12, 15, 23, 59, 22)]\n"
     ]
    }
   ],
   "source": [
    "g, t = ep.EPICtime2datetime(ds['EPIC_time'][0:1].values,ds['EPIC_time2'][0:1].values)\n",
    "print('EPIC time converted to datetime {}'.format(t))"
   ]
  },
  {
   "cell_type": "code",
   "execution_count": 12,
   "metadata": {},
   "outputs": [
    {
     "ename": "NameError",
     "evalue": "name 't1' is not defined",
     "output_type": "error",
     "traceback": [
      "\u001b[1;31m---------------------------------------------------------------------------\u001b[0m",
      "\u001b[1;31mNameError\u001b[0m                                 Traceback (most recent call last)",
      "\u001b[1;32m<ipython-input-12-6d8f62e90023>\u001b[0m in \u001b[0;36m<module>\u001b[1;34m\u001b[0m\n\u001b[1;32m----> 1\u001b[1;33m \u001b[0mthedate\u001b[0m \u001b[1;33m=\u001b[0m \u001b[0mpd\u001b[0m\u001b[1;33m.\u001b[0m\u001b[0mto_datetime\u001b[0m\u001b[1;33m(\u001b[0m\u001b[0mt1\u001b[0m \u001b[1;33m-\u001b[0m \u001b[1;36m0.5\u001b[0m\u001b[1;33m,\u001b[0m \u001b[0morigin\u001b[0m\u001b[1;33m=\u001b[0m\u001b[1;34m'julian'\u001b[0m\u001b[1;33m,\u001b[0m \u001b[0munit\u001b[0m\u001b[1;33m=\u001b[0m\u001b[1;34m'D'\u001b[0m\u001b[1;33m)\u001b[0m\u001b[1;33m\u001b[0m\u001b[1;33m\u001b[0m\u001b[0m\n\u001b[0m\u001b[0;32m      2\u001b[0m \u001b[0mthetime\u001b[0m \u001b[1;33m=\u001b[0m \u001b[0mpd\u001b[0m\u001b[1;33m.\u001b[0m\u001b[0mto_timedelta\u001b[0m\u001b[1;33m(\u001b[0m\u001b[0mt2\u001b[0m\u001b[1;33m,\u001b[0m \u001b[0munit\u001b[0m\u001b[1;33m=\u001b[0m\u001b[1;34m'ms'\u001b[0m\u001b[1;33m)\u001b[0m\u001b[1;33m\u001b[0m\u001b[1;33m\u001b[0m\u001b[0m\n\u001b[0;32m      3\u001b[0m \u001b[0mdt\u001b[0m \u001b[1;33m=\u001b[0m \u001b[0mthedate\u001b[0m \u001b[1;33m+\u001b[0m \u001b[0mthetime\u001b[0m\u001b[1;33m\u001b[0m\u001b[1;33m\u001b[0m\u001b[0m\n",
      "\u001b[1;31mNameError\u001b[0m: name 't1' is not defined"
     ]
    }
   ],
   "source": [
    "thedate = pd.to_datetime(t1 - 0.5, origin='julian', unit='D')\n",
    "thetime = pd.to_timedelta(t2, unit='ms')\n",
    "dt = thedate + thetime"
   ]
  },
  {
   "cell_type": "code",
   "execution_count": 13,
   "metadata": {},
   "outputs": [
    {
     "name": "stdout",
     "output_type": "stream",
     "text": [
      "<module 'datetime' from 'C:\\\\Users\\\\mmartini\\\\AppData\\\\Local\\\\Continuum\\\\miniconda3\\\\envs\\\\mmfavs\\\\lib\\\\datetime.py'>\n"
     ]
    }
   ],
   "source": [
    "print(dt)"
   ]
  },
  {
   "cell_type": "code",
   "execution_count": 14,
   "metadata": {},
   "outputs": [],
   "source": [
    "import stglib"
   ]
  },
  {
   "cell_type": "code",
   "execution_count": 18,
   "metadata": {},
   "outputs": [],
   "source": [
    "ts = stglib.core.utils.epic_to_datetime(ds['EPIC_time'][0].values,ds['EPIC_time2'][0].values)"
   ]
  },
  {
   "cell_type": "code",
   "execution_count": 19,
   "metadata": {},
   "outputs": [
    {
     "name": "stdout",
     "output_type": "stream",
     "text": [
      "<class 'pandas._libs.tslibs.timestamps.Timestamp'>\n"
     ]
    }
   ],
   "source": [
    "print(type(ts))"
   ]
  },
  {
   "cell_type": "code",
   "execution_count": null,
   "metadata": {},
   "outputs": [],
   "source": []
  }
 ],
 "metadata": {
  "kernelspec": {
   "display_name": "Python 3",
   "language": "python",
   "name": "python3"
  },
  "language_info": {
   "codemirror_mode": {
    "name": "ipython",
    "version": 3
   },
   "file_extension": ".py",
   "mimetype": "text/x-python",
   "name": "python",
   "nbconvert_exporter": "python",
   "pygments_lexer": "ipython3",
   "version": "3.7.3"
  }
 },
 "nbformat": 4,
 "nbformat_minor": 2
}
